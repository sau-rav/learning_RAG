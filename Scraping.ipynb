{
  "nbformat": 4,
  "nbformat_minor": 0,
  "metadata": {
    "colab": {
      "provenance": []
    },
    "kernelspec": {
      "name": "python3",
      "display_name": "Python 3"
    },
    "language_info": {
      "name": "python"
    }
  },
  "cells": [
    {
      "cell_type": "code",
      "execution_count": 1,
      "metadata": {
        "colab": {
          "base_uri": "https://localhost:8080/"
        },
        "id": "JzW7GiNHYMxF",
        "outputId": "45c708af-8e8d-43b2-9788-951a31a34c13"
      },
      "outputs": [
        {
          "output_type": "stream",
          "name": "stdout",
          "text": [
            "Requirement already satisfied: requests in /usr/local/lib/python3.10/dist-packages (2.31.0)\n",
            "Requirement already satisfied: beautifulsoup4 in /usr/local/lib/python3.10/dist-packages (4.12.3)\n",
            "Collecting googlesearch-python\n",
            "  Downloading googlesearch_python-1.2.4-py3-none-any.whl (4.5 kB)\n",
            "Requirement already satisfied: charset-normalizer<4,>=2 in /usr/local/lib/python3.10/dist-packages (from requests) (3.3.2)\n",
            "Requirement already satisfied: idna<4,>=2.5 in /usr/local/lib/python3.10/dist-packages (from requests) (3.7)\n",
            "Requirement already satisfied: urllib3<3,>=1.21.1 in /usr/local/lib/python3.10/dist-packages (from requests) (2.0.7)\n",
            "Requirement already satisfied: certifi>=2017.4.17 in /usr/local/lib/python3.10/dist-packages (from requests) (2024.6.2)\n",
            "Requirement already satisfied: soupsieve>1.2 in /usr/local/lib/python3.10/dist-packages (from beautifulsoup4) (2.5)\n",
            "Installing collected packages: googlesearch-python\n",
            "Successfully installed googlesearch-python-1.2.4\n"
          ]
        }
      ],
      "source": [
        "!pip install requests beautifulsoup4 googlesearch-python"
      ]
    },
    {
      "cell_type": "code",
      "source": [
        "!pip install PyPDF2"
      ],
      "metadata": {
        "colab": {
          "base_uri": "https://localhost:8080/"
        },
        "id": "fibaMBFrLqNZ",
        "outputId": "cfb84904-c0c4-4670-d33f-b8484d009ca7"
      },
      "execution_count": 2,
      "outputs": [
        {
          "output_type": "stream",
          "name": "stdout",
          "text": [
            "Collecting PyPDF2\n",
            "  Downloading pypdf2-3.0.1-py3-none-any.whl (232 kB)\n",
            "\u001b[?25l     \u001b[90m━━━━━━━━━━━━━━━━━━━━━━━━━━━━━━━━━━━━━━━━\u001b[0m \u001b[32m0.0/232.6 kB\u001b[0m \u001b[31m?\u001b[0m eta \u001b[36m-:--:--\u001b[0m\r\u001b[2K     \u001b[90m━━━━━━━━━━━━━━━━━━━━━━━━━━━━━━━━━━━━━━━━\u001b[0m \u001b[32m232.6/232.6 kB\u001b[0m \u001b[31m6.8 MB/s\u001b[0m eta \u001b[36m0:00:00\u001b[0m\n",
            "\u001b[?25hInstalling collected packages: PyPDF2\n",
            "Successfully installed PyPDF2-3.0.1\n"
          ]
        }
      ]
    },
    {
      "cell_type": "code",
      "source": [
        "from google.colab import drive\n",
        "\n",
        "drive.mount('/content/drive')"
      ],
      "metadata": {
        "colab": {
          "base_uri": "https://localhost:8080/"
        },
        "id": "K4wkxug3aJtl",
        "outputId": "9dc0ad74-1bcb-4bea-ee08-a3818238a846"
      },
      "execution_count": 3,
      "outputs": [
        {
          "output_type": "stream",
          "name": "stdout",
          "text": [
            "Mounted at /content/drive\n"
          ]
        }
      ]
    },
    {
      "cell_type": "code",
      "source": [
        "import os\n",
        "import requests\n",
        "from bs4 import BeautifulSoup\n",
        "from googlesearch import search\n",
        "from google.colab import drive\n",
        "import re\n",
        "from time import sleep\n",
        "from random import randint\n",
        "\n",
        "# Function to get search results\n",
        "def get_search_results(query, num_results=10):\n",
        "    return search(query, num_results=num_results)\n",
        "\n",
        "# Function to scrape website content\n",
        "def scrape_website(url, timeout=20, retries=3):\n",
        "    headers = {\n",
        "        \"User-Agent\": \"Mozilla/5.0 (Windows NT 10.0; Win64; x64) AppleWebKit/537.36 (KHTML, like Gecko) Chrome/58.0.3029.110 Safari/537.3\"}\n",
        "    for attempt in range(retries):\n",
        "        try:\n",
        "            response = requests.get(url, headers=headers, timeout=timeout)\n",
        "            response.raise_for_status()\n",
        "            soup = BeautifulSoup(response.text, 'html.parser')\n",
        "            return soup.get_text()\n",
        "        except requests.RequestException as e:\n",
        "            print(f\"Error fetching {url}: {e} (attempt {attempt + 1} of {retries})\")\n",
        "            sleep(2 ** attempt)  # Exponential backoff\n",
        "    return None\n",
        "\n",
        "# Function to save content to file\n",
        "def save_to_file(content, filename):\n",
        "    with open(filename, 'w', encoding='utf-8') as file:\n",
        "        file.write(content)\n",
        "\n",
        "# Function to convert URL to camelcase filename\n",
        "def url_to_camelcase_filename(url):\n",
        "    domain = re.search(r'(?<=://)(.*?)(?=/|$)', url).group(0)\n",
        "    filename = url.split('/')[-1]\n",
        "    filename = re.sub(r'[^\\w\\s]', '', filename)\n",
        "\n",
        "    # Convert to camel case\n",
        "    filename = ''.join(word.capitalize() for word in filename.split('_'))\n",
        "    # Combine domain name and filename\n",
        "    filename = domain + '_' + filename\n",
        "\n",
        "    return filename\n",
        "\n",
        "# Main function\n",
        "def main(search_term):\n",
        "    drive_folder = '/content/drive/My Drive/llmctx'\n",
        "    os.makedirs(drive_folder, exist_ok=True)\n",
        "\n",
        "    print(f\"Searching for: {search_term}\")\n",
        "    search_results = get_search_results(search_term)\n",
        "\n",
        "    for i, url in enumerate(search_results):\n",
        "        print(f\"Scraping {i+1}: {url}\")\n",
        "        content = scrape_website(url)\n",
        "        if content:\n",
        "            filename = os.path.join(drive_folder, f\"result_{url_to_camelcase_filename(url)}.txt\")\n",
        "            save_to_file(content, filename)\n",
        "            print(f\"Saved to {filename}\")\n",
        "\n",
        "if __name__ == \"__main__\":\n",
        "    search_term = input(\"Enter the search term: \")\n",
        "    main(search_term)"
      ],
      "metadata": {
        "colab": {
          "base_uri": "https://localhost:8080/"
        },
        "id": "e4L4t20gYp_h",
        "outputId": "2547b7ef-919b-4815-d832-27b39f134426"
      },
      "execution_count": 4,
      "outputs": [
        {
          "output_type": "stream",
          "name": "stdout",
          "text": [
            "Enter the search term: election result in india, all details\n",
            "Searching for: election result in india, all details\n",
            "Scraping 1: https://www.aljazeera.com/news/2024/6/6/mapping-the-results-of-the-india-election-2024\n",
            "Saved to /content/drive/My Drive/llmctx/result_www.aljazeera.com_Mappingtheresultsoftheindiaelection2024.txt\n",
            "Scraping 2: https://apnews.com/article/india-election-results-2024-lok-sabha-modi-bjp-7893efecc83fa8225a611f174e6420ee\n",
            "Saved to /content/drive/My Drive/llmctx/result_apnews.com_Indiaelectionresults2024loksabhamodibjp7893efecc83fa8225a611f174e6420ee.txt\n",
            "Scraping 3: https://www.reuters.com/graphics/INDIA-ELECTION/zgponbzllvd/\n",
            "Saved to /content/drive/My Drive/llmctx/result_www.reuters.com_.txt\n",
            "Scraping 4: https://apnews.com/live/india-election-results-updates\n",
            "Saved to /content/drive/My Drive/llmctx/result_apnews.com_Indiaelectionresultsupdates.txt\n",
            "Scraping 5: https://www.aljazeera.com/news/2024/6/4/india-election-results-big-wins-losses-and-surprises\n",
            "Saved to /content/drive/My Drive/llmctx/result_www.aljazeera.com_Indiaelectionresultsbigwinslossesandsurprises.txt\n",
            "Scraping 6: https://www.nytimes.com/interactive/2024/06/03/world/asia/results-india-lok-sabha-election.html\n",
            "Saved to /content/drive/My Drive/llmctx/result_www.nytimes.com_Resultsindialoksabhaelectionhtml.txt\n",
            "Scraping 7: https://timesofindia.indiatimes.com/elections/results\n",
            "Saved to /content/drive/My Drive/llmctx/result_timesofindia.indiatimes.com_Results.txt\n",
            "Scraping 8: https://www.ndtv.com/india-news/2024-lok-sabha-election-results-declared-bjp-wins-in-240-congress-in-99-5820696\n",
            "Error fetching https://www.ndtv.com/india-news/2024-lok-sabha-election-results-declared-bjp-wins-in-240-congress-in-99-5820696: 403 Client Error: Forbidden for url: https://www.ndtv.com/india-news/2024-lok-sabha-election-results-declared-bjp-wins-in-240-congress-in-99-5820696 (attempt 1 of 3)\n",
            "Error fetching https://www.ndtv.com/india-news/2024-lok-sabha-election-results-declared-bjp-wins-in-240-congress-in-99-5820696: 403 Client Error: Forbidden for url: https://www.ndtv.com/india-news/2024-lok-sabha-election-results-declared-bjp-wins-in-240-congress-in-99-5820696 (attempt 2 of 3)\n",
            "Error fetching https://www.ndtv.com/india-news/2024-lok-sabha-election-results-declared-bjp-wins-in-240-congress-in-99-5820696: 403 Client Error: Forbidden for url: https://www.ndtv.com/india-news/2024-lok-sabha-election-results-declared-bjp-wins-in-240-congress-in-99-5820696 (attempt 3 of 3)\n",
            "Scraping 9: https://thehill.com/policy/international/4702856-india-elections-modi-bjp-2024-shocking/\n",
            "Error fetching https://thehill.com/policy/international/4702856-india-elections-modi-bjp-2024-shocking/: 403 Client Error: Forbidden for url: https://thehill.com/policy/international/4702856-india-elections-modi-bjp-2024-shocking/ (attempt 1 of 3)\n",
            "Error fetching https://thehill.com/policy/international/4702856-india-elections-modi-bjp-2024-shocking/: 403 Client Error: Forbidden for url: https://thehill.com/policy/international/4702856-india-elections-modi-bjp-2024-shocking/ (attempt 2 of 3)\n",
            "Error fetching https://thehill.com/policy/international/4702856-india-elections-modi-bjp-2024-shocking/: 403 Client Error: Forbidden for url: https://thehill.com/policy/international/4702856-india-elections-modi-bjp-2024-shocking/ (attempt 3 of 3)\n",
            "Scraping 10: https://en.wikipedia.org/wiki/2024_Indian_general_election\n",
            "Saved to /content/drive/My Drive/llmctx/result_en.wikipedia.org_2024IndianGeneralElection.txt\n",
            "Scraping 11: https://www.thehindu.com/elections/lok-sabha/election-results-2024-live-updates/article68246702.ece\n",
            "Saved to /content/drive/My Drive/llmctx/result_www.thehindu.com_Article68246702ece.txt\n",
            "Scraping 12: https://indianexpress.com/elections/india-election-results-2024-live-updates-lok-sabha-election-counting-today-9369252/\n",
            "Saved to /content/drive/My Drive/llmctx/result_indianexpress.com_.txt\n"
          ]
        }
      ]
    }
  ]
}